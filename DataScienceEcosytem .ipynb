{
 "cells": [
  {
   "cell_type": "markdown",
   "id": "0ead6afb-5705-4ce6-9875-b012588ae37d",
   "metadata": {},
   "source": [
    "# Data Science Tools and Ecosystem "
   ]
  },
  {
   "cell_type": "markdown",
   "id": "cde645c6-6921-465a-a760-dd567a1accff",
   "metadata": {},
   "source": [
    "In this notebook, Data Science Tools and Ecosystem are summarized.\n"
   ]
  },
  {
   "cell_type": "markdown",
   "id": "155dc932-0aa5-4715-94d7-d8acbb84aa8b",
   "metadata": {},
   "source": [
    "**Objectives**\n",
    "- List popular languages for Data Science.\n",
    "- List popular libraries for Data Science.\n",
    "- List popular Development Enviorments for Data Science.\n",
    "- Evaluate Airthmetic Expressions"
   ]
  },
  {
   "cell_type": "markdown",
   "id": "bd33f293-b87f-4015-8db9-0adbef5d7893",
   "metadata": {},
   "source": [
    "Some of the popular languages that Data Scientists use are\n",
    "1. Python \n",
    "2. Julia \n",
    "3. R\n",
    "   "
   ]
  },
  {
   "cell_type": "markdown",
   "id": "40c3fff7-0f9a-497a-b13d-06493c72d9b9",
   "metadata": {},
   "source": [
    "Some of the commonly used libraries used by Data Scientists include:\n",
    "1. Pandas\n",
    "2. Numpy\n",
    "3. Matplotlib"
   ]
  },
  {
   "cell_type": "markdown",
   "id": "474324b6-8ca9-46ab-ac8f-2e9a6a511af6",
   "metadata": {},
   "source": [
    "|Data Science Tools|\n",
    "|------------------|\n",
    "|Jupyter Lab       |\n",
    "|Anaconda          |\n",
    "|Google Colab      |"
   ]
  },
  {
   "cell_type": "markdown",
   "id": "81da285d-762f-453c-b2fc-905736d668da",
   "metadata": {},
   "source": [
    "### Below are a few examples of evaluating arithmetic expressions in Python"
   ]
  },
  {
   "cell_type": "code",
   "execution_count": 2,
   "id": "5822fb3c-0426-4f51-a755-c73d7cced6dd",
   "metadata": {},
   "outputs": [
    {
     "name": "stdout",
     "output_type": "stream",
     "text": [
      "17\n"
     ]
    }
   ],
   "source": [
    "#  This a simple arithmetic expression to mutiply then add integers\n",
    "print((3*4) + 5)"
   ]
  },
  {
   "cell_type": "code",
   "execution_count": 3,
   "id": "d3abbcb7-1558-42d2-82b8-754fd1115af3",
   "metadata": {},
   "outputs": [
    {
     "name": "stdout",
     "output_type": "stream",
     "text": [
      "3.3333333333333335\n"
     ]
    }
   ],
   "source": [
    "# This will convert 200 minutes to hours by diving by 60.\n",
    "print(200 / 60)"
   ]
  },
  {
   "cell_type": "markdown",
   "id": "20e04e30-cbad-41bb-b5d9-c5442c4b92df",
   "metadata": {},
   "source": [
    "## Author\n",
    "Mustafa Haider"
   ]
  },
  {
   "cell_type": "code",
   "execution_count": null,
   "id": "b075df3a-633e-44a4-822a-47857841561c",
   "metadata": {},
   "outputs": [],
   "source": []
  }
 ],
 "metadata": {
  "kernelspec": {
   "display_name": "Python 3 (ipykernel)",
   "language": "python",
   "name": "python3"
  },
  "language_info": {
   "codemirror_mode": {
    "name": "ipython",
    "version": 3
   },
   "file_extension": ".py",
   "mimetype": "text/x-python",
   "name": "python",
   "nbconvert_exporter": "python",
   "pygments_lexer": "ipython3",
   "version": "3.12.5"
  }
 },
 "nbformat": 4,
 "nbformat_minor": 5
}
